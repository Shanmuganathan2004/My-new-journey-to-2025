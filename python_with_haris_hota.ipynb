{
  "nbformat": 4,
  "nbformat_minor": 0,
  "metadata": {
    "colab": {
      "provenance": [],
      "authorship_tag": "ABX9TyO98KwQylzRDpfTSdAB0oa+",
      "include_colab_link": true
    },
    "kernelspec": {
      "name": "python3",
      "display_name": "Python 3"
    },
    "language_info": {
      "name": "python"
    }
  },
  "cells": [
    {
      "cell_type": "markdown",
      "metadata": {
        "id": "view-in-github",
        "colab_type": "text"
      },
      "source": [
        "<a href=\"https://colab.research.google.com/github/Shanmuganathan2004/My-new-journey-to-2025/blob/main/python_with_haris_hota.ipynb\" target=\"_parent\"><img src=\"https://colab.research.google.com/assets/colab-badge.svg\" alt=\"Open In Colab\"/></a>"
      ]
    },
    {
      "cell_type": "code",
      "execution_count": 1,
      "metadata": {
        "colab": {
          "base_uri": "https://localhost:8080/"
        },
        "id": "pmJjsHq8oh3k",
        "outputId": "336188b9-1bec-43b4-c2f3-b18875048a81"
      },
      "outputs": [
        {
          "output_type": "stream",
          "name": "stdout",
          "text": [
            "Hello Udemy!!\n"
          ]
        }
      ],
      "source": [
        "print(\"Hello Udemy!!\")"
      ]
    },
    {
      "cell_type": "code",
      "source": [
        "\n",
        "class Calculator:\n",
        "  def __init__(self,initial_value=0):\n",
        "    self.value = initial_value\n",
        "  def add(self,amount):\n",
        "    self.value += amount\n",
        "    return self.value\n",
        "  def sub(self,amount):\n",
        "    self.value -= amount\n",
        "    return self.value\n",
        "\n",
        "  def mul(self,amount):\n",
        "    self.value *= amount\n",
        "    return self.value\n",
        "\n",
        "  def div(self,amount):\n",
        "    if amount != 0:\n",
        "      self.value /= amount\n",
        "    else:\n",
        "      print(\"Error: Division by zero is not allowed.\")\n",
        "\n",
        "    return self.value\n",
        "  def reset(self):\n",
        "    self.value = 0\n",
        "    return self.value\n",
        "\n",
        "calc = Calculator()\n",
        "\n",
        "print(\"Initial Value:\",calc.value)\n",
        "print(\"Result: \",calc.add(2))\n",
        "print(\"Result: \",calc.sub(3))\n",
        "print(\"Result: \",calc.mul(1))\n",
        "print(\"Result: \",calc.div(10))\n",
        "\n"
      ],
      "metadata": {
        "colab": {
          "base_uri": "https://localhost:8080/"
        },
        "id": "tTNHtvVCt39s",
        "outputId": "01267860-25a3-4877-a303-0175e3c782de"
      },
      "execution_count": 19,
      "outputs": [
        {
          "output_type": "stream",
          "name": "stdout",
          "text": [
            "Initial Value: 0\n",
            "Result:  2\n",
            "Result:  -1\n",
            "Result:  -1\n",
            "Result:  -0.1\n"
          ]
        }
      ]
    }
  ]
}
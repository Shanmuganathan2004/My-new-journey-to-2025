{
  "nbformat": 4,
  "nbformat_minor": 0,
  "metadata": {
    "colab": {
      "provenance": [],
      "authorship_tag": "ABX9TyMmP1/FRweiZvciGw0Kz3Bj",
      "include_colab_link": true
    },
    "kernelspec": {
      "name": "python3",
      "display_name": "Python 3"
    },
    "language_info": {
      "name": "python"
    }
  },
  "cells": [
    {
      "cell_type": "markdown",
      "metadata": {
        "id": "view-in-github",
        "colab_type": "text"
      },
      "source": [
        "<a href=\"https://colab.research.google.com/github/Shanmuganathan2004/My-new-journey-to-2025/blob/main/First_Code_Vivian_aranha_2.ipynb\" target=\"_parent\"><img src=\"https://colab.research.google.com/assets/colab-badge.svg\" alt=\"Open In Colab\"/></a>"
      ]
    },
    {
      "cell_type": "code",
      "execution_count": 1,
      "metadata": {
        "colab": {
          "base_uri": "https://localhost:8080/"
        },
        "id": "8hUAo_sZx04w",
        "outputId": "c2396ab2-0650-48e5-c7b9-56e0bbf172e2"
      },
      "outputs": [
        {
          "output_type": "stream",
          "name": "stdout",
          "text": [
            "Hello world!\n"
          ]
        }
      ],
      "source": [
        "print(\"Hello world!\")"
      ]
    },
    {
      "cell_type": "code",
      "source": [
        "Name = \"Shanmuga\" #string\n",
        "Age  =  39 #Integer\n",
        "height =  5.8 #Float\n",
        "is_handsome =  True #Boolean\n",
        "print(Name)\n",
        "print(Age)\n",
        "print(height)\n",
        "print(is_handsome)"
      ],
      "metadata": {
        "colab": {
          "base_uri": "https://localhost:8080/"
        },
        "id": "NWC8bMUzyXit",
        "outputId": "6c031ca2-52cd-483d-9160-21c8aab6e423"
      },
      "execution_count": 4,
      "outputs": [
        {
          "output_type": "stream",
          "name": "stdout",
          "text": [
            "Shanmuga\n",
            "39\n",
            "5.8\n",
            "True\n"
          ]
        }
      ]
    },
    {
      "cell_type": "code",
      "source": [
        "userName = input(\"What's your name?\")\n",
        "print(\"My Name is:\",userName)"
      ],
      "metadata": {
        "colab": {
          "base_uri": "https://localhost:8080/"
        },
        "id": "BOt173x8za27",
        "outputId": "dac00001-286e-45a9-a39f-653c2f789114"
      },
      "execution_count": 9,
      "outputs": [
        {
          "output_type": "stream",
          "name": "stdout",
          "text": [
            "What's your name?Shanmuganathan\n",
            "My Name is: Shanmuganathan\n"
          ]
        }
      ]
    },
    {
      "cell_type": "code",
      "source": [
        "x = 3\n",
        "y = 10\n",
        "\n",
        "print(x + y)\n",
        "print(x - y)\n",
        "print(x * y)\n",
        "print(x / y)\n",
        "print(x % y)\n",
        "print(x ** y)"
      ],
      "metadata": {
        "colab": {
          "base_uri": "https://localhost:8080/"
        },
        "id": "3BJEdaWA1nOg",
        "outputId": "6dfc61d9-0456-4c68-dad3-6d2b79f86ee9"
      },
      "execution_count": 10,
      "outputs": [
        {
          "output_type": "stream",
          "name": "stdout",
          "text": [
            "13\n",
            "-7\n",
            "30\n",
            "0.3\n",
            "3\n",
            "59049\n"
          ]
        }
      ]
    }
  ]
}
{
  "nbformat": 4,
  "nbformat_minor": 0,
  "metadata": {
    "colab": {
      "provenance": [],
      "authorship_tag": "ABX9TyMn1cAfk3P/bn0IT8SX+nBQ"
    },
    "kernelspec": {
      "name": "python3",
      "display_name": "Python 3"
    },
    "language_info": {
      "name": "python"
    }
  },
  "cells": [
    {
      "cell_type": "code",
      "execution_count": null,
      "metadata": {
        "colab": {
          "base_uri": "https://localhost:8080/"
        },
        "id": "Hd_zslE34Myh",
        "outputId": "bf6275c6-f3dd-42a1-f252-0a1bee48ea95"
      },
      "outputs": [
        {
          "output_type": "stream",
          "name": "stdout",
          "text": [
            "Variable   Type    Data/Info\n",
            "----------------------------\n",
            "list1      list    n=6\n",
            "list2      list    n=4\n"
          ]
        }
      ],
      "source": [
        "list1=[1,2,3,4,5,6]\n",
        "list2=['hi','this','is','me']\n",
        "%whos"
      ]
    },
    {
      "cell_type": "code",
      "source": [
        "list3=[[1,2,3],2,3]\n",
        "%whos"
      ],
      "metadata": {
        "colab": {
          "base_uri": "https://localhost:8080/"
        },
        "id": "9IoGllGE7mEz",
        "outputId": "d1476caa-b2eb-4170-873a-6ecfeb8a1511"
      },
      "execution_count": null,
      "outputs": [
        {
          "output_type": "stream",
          "name": "stdout",
          "text": [
            "Variable   Type    Data/Info\n",
            "----------------------------\n",
            "list1      list    n=6\n",
            "list2      list    n=4\n",
            "list3      list    n=3\n"
          ]
        }
      ]
    },
    {
      "cell_type": "code",
      "source": [
        "list4=[1,2,3,4,5]\n",
        "#Booleans means TRUE or FALSE in a statement\n",
        "4 in list4\n"
      ],
      "metadata": {
        "colab": {
          "base_uri": "https://localhost:8080/"
        },
        "id": "XVirjFOJ8mma",
        "outputId": "dfb612da-032a-410b-8f93-70e455a92a9e"
      },
      "execution_count": null,
      "outputs": [
        {
          "output_type": "execute_result",
          "data": {
            "text/plain": [
              "True"
            ]
          },
          "metadata": {},
          "execution_count": 14
        }
      ]
    },
    {
      "cell_type": "code",
      "source": [
        "4 not in list4"
      ],
      "metadata": {
        "colab": {
          "base_uri": "https://localhost:8080/"
        },
        "id": "8x5TxoQL95oL",
        "outputId": "1194900b-a0cf-464e-828c-c1297275f222"
      },
      "execution_count": null,
      "outputs": [
        {
          "output_type": "execute_result",
          "data": {
            "text/plain": [
              "False"
            ]
          },
          "metadata": {},
          "execution_count": 13
        }
      ]
    },
    {
      "cell_type": "code",
      "source": [
        "4 == 4 and 7>10\n",
        "\n"
      ],
      "metadata": {
        "colab": {
          "base_uri": "https://localhost:8080/"
        },
        "id": "9mBugJVhf3hx",
        "outputId": "0f5f0ef8-f6a7-4c42-9dab-d0589a8b98bc"
      },
      "execution_count": null,
      "outputs": [
        {
          "output_type": "execute_result",
          "data": {
            "text/plain": [
              "False"
            ]
          },
          "metadata": {},
          "execution_count": 3
        }
      ]
    },
    {
      "cell_type": "code",
      "source": [
        "# bool(0) is false\n",
        "# bool(1) other ten 0 all numbers are true"
      ],
      "metadata": {
        "colab": {
          "base_uri": "https://localhost:8080/"
        },
        "id": "XpxGzcAwgsVJ",
        "outputId": "29db9b9a-fc30-452d-f716-141e698645e4"
      },
      "execution_count": null,
      "outputs": [
        {
          "output_type": "execute_result",
          "data": {
            "text/plain": [
              "True"
            ]
          },
          "metadata": {},
          "execution_count": 5
        }
      ]
    },
    {
      "cell_type": "code",
      "source": [
        "# Excercise-1 of booleans ,pythogorean triplets\n",
        "\n",
        "#input the three lengths\n",
        "\n",
        "side_a=float(input(\"Enter the length of side a:\"))\n",
        "side_b=float(input(\"Enter the length of side b:\"))\n",
        "side_c=float(input(\"Enter the length of side c:\"))\n",
        "\n",
        "#check for accuracy\n",
        "pytriplet=side_a**2 + side_b**2 == side_c**2\n",
        "\n",
        "#Print th result\n",
        "print('Your answer is ' + str(pytriplet) +'!!')\n",
        "\n"
      ],
      "metadata": {
        "colab": {
          "base_uri": "https://localhost:8080/"
        },
        "id": "zaWnnSLWhg4p",
        "outputId": "eb505504-852c-4bea-dc95-71f58590a469"
      },
      "execution_count": null,
      "outputs": [
        {
          "output_type": "stream",
          "name": "stdout",
          "text": [
            "Enter the length of side a:3\n",
            "Enter the length of side b:4\n",
            "Enter the length of side c:5\n",
            "Your answer is True!!\n"
          ]
        }
      ]
    },
    {
      "cell_type": "code",
      "source": [
        "# Tuples\n",
        "\n",
        "tuple_1=(3,'4',3)#immutable but you can change the entire thing again to\n",
        "# to orrect it\n",
        "list_1=[3,'4',3]#mutable\n",
        "print(tuple_1)\n",
        "print(list_1)\n",
        "list_1[0]=5\n",
        "tuple_1[0]=5\n",
        "print(tuple_1)\n",
        "print(list_1)\n"
      ],
      "metadata": {
        "colab": {
          "base_uri": "https://localhost:8080/",
          "height": 250
        },
        "id": "jC2GIGLbCR4p",
        "outputId": "771ca358-839e-4b1e-b289-737b77de355c"
      },
      "execution_count": null,
      "outputs": [
        {
          "output_type": "stream",
          "name": "stdout",
          "text": [
            "(3, '4', 3)\n",
            "[3, '4', 3]\n"
          ]
        },
        {
          "output_type": "error",
          "ename": "TypeError",
          "evalue": "'tuple' object does not support item assignment",
          "traceback": [
            "\u001b[0;31m---------------------------------------------------------------------------\u001b[0m",
            "\u001b[0;31mTypeError\u001b[0m                                 Traceback (most recent call last)",
            "\u001b[0;32m<ipython-input-4-198d9f50f79f>\u001b[0m in \u001b[0;36m<cell line: 8>\u001b[0;34m()\u001b[0m\n\u001b[1;32m      6\u001b[0m \u001b[0mprint\u001b[0m\u001b[0;34m(\u001b[0m\u001b[0mlist_1\u001b[0m\u001b[0;34m)\u001b[0m\u001b[0;34m\u001b[0m\u001b[0;34m\u001b[0m\u001b[0m\n\u001b[1;32m      7\u001b[0m \u001b[0mlist_1\u001b[0m\u001b[0;34m[\u001b[0m\u001b[0;36m0\u001b[0m\u001b[0;34m]\u001b[0m\u001b[0;34m=\u001b[0m\u001b[0;36m5\u001b[0m\u001b[0;34m\u001b[0m\u001b[0;34m\u001b[0m\u001b[0m\n\u001b[0;32m----> 8\u001b[0;31m \u001b[0mtuple_1\u001b[0m\u001b[0;34m[\u001b[0m\u001b[0;36m0\u001b[0m\u001b[0;34m]\u001b[0m\u001b[0;34m=\u001b[0m\u001b[0;36m5\u001b[0m\u001b[0;34m\u001b[0m\u001b[0;34m\u001b[0m\u001b[0m\n\u001b[0m\u001b[1;32m      9\u001b[0m \u001b[0mprint\u001b[0m\u001b[0;34m(\u001b[0m\u001b[0mtuple_1\u001b[0m\u001b[0;34m)\u001b[0m\u001b[0;34m\u001b[0m\u001b[0;34m\u001b[0m\u001b[0m\n\u001b[1;32m     10\u001b[0m \u001b[0mprint\u001b[0m\u001b[0;34m(\u001b[0m\u001b[0mlist_1\u001b[0m\u001b[0;34m)\u001b[0m\u001b[0;34m\u001b[0m\u001b[0;34m\u001b[0m\u001b[0m\n",
            "\u001b[0;31mTypeError\u001b[0m: 'tuple' object does not support item assignment"
          ]
        }
      ]
    },
    {
      "cell_type": "code",
      "source": [
        "tuple_1=(5,'4',3)\n",
        "print(tuple_1)\n",
        "print(type(list(tuple_1)))"
      ],
      "metadata": {
        "colab": {
          "base_uri": "https://localhost:8080/"
        },
        "id": "lQqNxGYsESxB",
        "outputId": "d96e3f91-3601-4e7b-ba85-23cfbef9f21d"
      },
      "execution_count": null,
      "outputs": [
        {
          "output_type": "stream",
          "name": "stdout",
          "text": [
            "(5, '4', 3)\n",
            "<class 'list'>\n"
          ]
        }
      ]
    },
    {
      "cell_type": "code",
      "source": [
        "print(type(tuple_1))\n",
        "v = list(tuple_1)\n",
        "print(v)\n",
        "v[0] = 2345679\n",
        "print(v)"
      ],
      "metadata": {
        "colab": {
          "base_uri": "https://localhost:8080/"
        },
        "id": "4nYr0ULLExop",
        "outputId": "c99d1b4b-c475-45e6-d918-edf97a899c0d"
      },
      "execution_count": null,
      "outputs": [
        {
          "output_type": "stream",
          "name": "stdout",
          "text": [
            "<class 'tuple'>\n",
            "[5, '4', 3]\n",
            "[2345679, '4', 3]\n"
          ]
        }
      ]
    },
    {
      "cell_type": "code",
      "source": [
        "# Dictionaries in python are stored in {}\n",
        "\n",
        "D = dict()\n",
        "D"
      ],
      "metadata": {
        "colab": {
          "base_uri": "https://localhost:8080/"
        },
        "id": "RmtXbb5AFdj5",
        "outputId": "64e9f2da-7151-411f-8d51-24af099250a0"
      },
      "execution_count": null,
      "outputs": [
        {
          "output_type": "execute_result",
          "data": {
            "text/plain": [
              "{}"
            ]
          },
          "metadata": {},
          "execution_count": 10
        }
      ]
    },
    {
      "cell_type": "code",
      "source": [
        "#Key/Value pair\n",
        "D['name'] = 'nathan'\n",
        "D['AgeRange'] = [20,50]\n",
        "print(D)"
      ],
      "metadata": {
        "colab": {
          "base_uri": "https://localhost:8080/"
        },
        "id": "uWTHOpdiF44G",
        "outputId": "435e0fef-5410-424c-caa3-92282bd4194f"
      },
      "execution_count": null,
      "outputs": [
        {
          "output_type": "stream",
          "name": "stdout",
          "text": [
            "{'name': 'nathan', 'AgeRange': [20, 50]}\n"
          ]
        }
      ]
    },
    {
      "cell_type": "code",
      "source": [
        "E = {'name':'nathan','AgeRange':[20,50]}\n",
        "E"
      ],
      "metadata": {
        "colab": {
          "base_uri": "https://localhost:8080/"
        },
        "id": "ooCcM_LaGZ8f",
        "outputId": "876a7c30-22fc-419c-9271-6817d4fb85d9"
      },
      "execution_count": null,
      "outputs": [
        {
          "output_type": "execute_result",
          "data": {
            "text/plain": [
              "{'name': 'nathan', 'AgeRange': [20, 50]}"
            ]
          },
          "metadata": {},
          "execution_count": 13
        }
      ]
    },
    {
      "cell_type": "code",
      "source": [
        "#Method-1 to retrieve info from dictionary is type the key with variable\n",
        "D['name']\n"
      ],
      "metadata": {
        "colab": {
          "base_uri": "https://localhost:8080/"
        },
        "id": "vT07w7rGGpld",
        "outputId": "2fa658be-1e83-4758-f7da-d44c64ab70a8"
      },
      "execution_count": null,
      "outputs": [
        {
          "output_type": "execute_result",
          "data": {
            "text/plain": [
              "dict_keys(['name', 'AgeRange'])"
            ]
          },
          "metadata": {},
          "execution_count": 17
        }
      ]
    },
    {
      "cell_type": "code",
      "source": [
        "#Method-2 to retrieve info from dictionary is .keys() function\n",
        "D.keys()"
      ],
      "metadata": {
        "id": "dK_4NpdMNot_"
      },
      "execution_count": null,
      "outputs": []
    },
    {
      "cell_type": "code",
      "source": [
        "#Method -3 to retrieve info from dict is .values() function\n",
        "D.values()"
      ],
      "metadata": {
        "colab": {
          "base_uri": "https://localhost:8080/"
        },
        "id": "GDkpAaNvO4zY",
        "outputId": "688bdcf2-d14c-4664-9210-2d986bddca39"
      },
      "execution_count": null,
      "outputs": [
        {
          "output_type": "execute_result",
          "data": {
            "text/plain": [
              "dict_values(['nathan', [20, 50]])"
            ]
          },
          "metadata": {},
          "execution_count": 22
        }
      ]
    },
    {
      "cell_type": "code",
      "source": [
        "#Method-4 to retrieve info from dict is .items() function\n",
        "D.items()"
      ],
      "metadata": {
        "colab": {
          "base_uri": "https://localhost:8080/"
        },
        "id": "UgB8nzi1PRqf",
        "outputId": "e97b0772-3964-4b2d-9485-ca16b8c4b2b7"
      },
      "execution_count": null,
      "outputs": [
        {
          "output_type": "execute_result",
          "data": {
            "text/plain": [
              "dict_items([('name', 'nathan'), ('AgeRange', [20, 50])])"
            ]
          },
          "metadata": {},
          "execution_count": 23
        }
      ]
    },
    {
      "cell_type": "code",
      "source": [
        "# Method-1 to check whether the key is in the dictionary\n",
        "#by boolean is type the key and\n",
        "#type in and type the variabve it hold\n",
        "\n",
        "'name' in D"
      ],
      "metadata": {
        "colab": {
          "base_uri": "https://localhost:8080/"
        },
        "id": "Pjyl9VHcNsu_",
        "outputId": "006134a6-a3d8-4fa9-f1c2-2f892d53ee46"
      },
      "execution_count": null,
      "outputs": [
        {
          "output_type": "execute_result",
          "data": {
            "text/plain": [
              "False"
            ]
          },
          "metadata": {},
          "execution_count": 21
        }
      ]
    },
    {
      "cell_type": "code",
      "source": [
        "# Excercise-1 for dictionary\n",
        "\n",
        "#Input two numbers from the user.\n",
        "#Create a dictionary with keys 'firstNum','secondNum','Product'\n",
        "a = int(input('Enter the first number:'))\n",
        "b = int(input('Enter the second number:'))\n",
        "data = dict()\n",
        "data['firstNum'] = a\n",
        "data['secondNum'] = b\n",
        "data['Product'] = a*b\n",
        "data.items()"
      ],
      "metadata": {
        "colab": {
          "base_uri": "https://localhost:8080/"
        },
        "id": "fR3jUQ5uQSsy",
        "outputId": "a13a877e-c493-47fc-c24e-d505a57a3dec"
      },
      "execution_count": null,
      "outputs": [
        {
          "name": "stdout",
          "output_type": "stream",
          "text": [
            "Enter the first number:1\n",
            "Enter the second number:3\n"
          ]
        },
        {
          "output_type": "execute_result",
          "data": {
            "text/plain": [
              "dict_items([('firstNum', 1), ('secondNum', 3), ('Product', 3)])"
            ]
          },
          "metadata": {},
          "execution_count": 39
        }
      ]
    },
    {
      "cell_type": "code",
      "source": [],
      "metadata": {
        "id": "wRfYRjK7T-f1"
      },
      "execution_count": null,
      "outputs": []
    }
  ]
}
{
  "nbformat": 4,
  "nbformat_minor": 0,
  "metadata": {
    "colab": {
      "provenance": [],
      "authorship_tag": "ABX9TyMcG7JSwvQoVArDxJDg45VS",
      "include_colab_link": true
    },
    "kernelspec": {
      "name": "python3",
      "display_name": "Python 3"
    },
    "language_info": {
      "name": "python"
    }
  },
  "cells": [
    {
      "cell_type": "markdown",
      "metadata": {
        "id": "view-in-github",
        "colab_type": "text"
      },
      "source": [
        "<a href=\"https://colab.research.google.com/github/Shanmuganathan2004/My-new-journey-to-2025/blob/main/First_Code_Vivian_aranha_3.ipynb\" target=\"_parent\"><img src=\"https://colab.research.google.com/assets/colab-badge.svg\" alt=\"Open In Colab\"/></a>"
      ]
    },
    {
      "cell_type": "code",
      "execution_count": 1,
      "metadata": {
        "colab": {
          "base_uri": "https://localhost:8080/"
        },
        "id": "8hUAo_sZx04w",
        "outputId": "c2396ab2-0650-48e5-c7b9-56e0bbf172e2"
      },
      "outputs": [
        {
          "output_type": "stream",
          "name": "stdout",
          "text": [
            "Hello world!\n"
          ]
        }
      ],
      "source": [
        "print(\"Hello world!\")"
      ]
    },
    {
      "cell_type": "code",
      "source": [
        "Name = \"Shanmuga\" #string\n",
        "Age  =  39 #Integer\n",
        "height =  5.8 #Float\n",
        "is_handsome =  True #Boolean\n",
        "print(Name)\n",
        "print(Age)\n",
        "print(height)\n",
        "print(is_handsome)"
      ],
      "metadata": {
        "colab": {
          "base_uri": "https://localhost:8080/"
        },
        "id": "NWC8bMUzyXit",
        "outputId": "6c031ca2-52cd-483d-9160-21c8aab6e423"
      },
      "execution_count": 4,
      "outputs": [
        {
          "output_type": "stream",
          "name": "stdout",
          "text": [
            "Shanmuga\n",
            "39\n",
            "5.8\n",
            "True\n"
          ]
        }
      ]
    },
    {
      "cell_type": "code",
      "source": [
        "userName = input(\"What's your name?\")\n",
        "print(\"My Name is:\",userName)"
      ],
      "metadata": {
        "colab": {
          "base_uri": "https://localhost:8080/"
        },
        "id": "BOt173x8za27",
        "outputId": "dac00001-286e-45a9-a39f-653c2f789114"
      },
      "execution_count": 9,
      "outputs": [
        {
          "output_type": "stream",
          "name": "stdout",
          "text": [
            "What's your name?Shanmuganathan\n",
            "My Name is: Shanmuganathan\n"
          ]
        }
      ]
    },
    {
      "cell_type": "code",
      "source": [
        "x = 3\n",
        "y = 10\n",
        "\n",
        "print(x + y)\n",
        "print(x - y)\n",
        "print(x * y)\n",
        "print(y / x)\n",
        "print(y % x)\n",
        "print(y ** x)"
      ],
      "metadata": {
        "colab": {
          "base_uri": "https://localhost:8080/"
        },
        "id": "3BJEdaWA1nOg",
        "outputId": "eaa38c6f-5d2e-40cd-d255-232a2427767e"
      },
      "execution_count": 11,
      "outputs": [
        {
          "output_type": "stream",
          "name": "stdout",
          "text": [
            "13\n",
            "-7\n",
            "30\n",
            "3.3333333333333335\n",
            "1\n",
            "1000\n"
          ]
        }
      ]
    },
    {
      "cell_type": "code",
      "source": [
        "#Functions\n",
        "\n",
        "def say_myname():\n",
        "  print(\"My name is Shanmuga\")\n",
        "\n",
        "say_myname()\n"
      ],
      "metadata": {
        "colab": {
          "base_uri": "https://localhost:8080/"
        },
        "id": "vjYWD8m63dp2",
        "outputId": "363fe14e-cc61-4064-f813-6ce3edb5cd9b"
      },
      "execution_count": 12,
      "outputs": [
        {
          "output_type": "stream",
          "name": "stdout",
          "text": [
            "My name is Shanmuga\n"
          ]
        }
      ]
    },
    {
      "cell_type": "code",
      "source": [
        "def do_addition(a,b):\n",
        "  return a + b\n",
        "\n",
        "print(\"Result:\",do_addition(10,30))"
      ],
      "metadata": {
        "colab": {
          "base_uri": "https://localhost:8080/"
        },
        "id": "hXTGdPE46ZsS",
        "outputId": "ccc65438-e10f-4c6e-b14c-eab8e0fff306"
      },
      "execution_count": 15,
      "outputs": [
        {
          "output_type": "stream",
          "name": "stdout",
          "text": [
            "Result: 40\n"
          ]
        }
      ]
    },
    {
      "cell_type": "code",
      "source": [],
      "metadata": {
        "id": "eN5TQweF63ZJ"
      },
      "execution_count": null,
      "outputs": []
    }
  ]
}
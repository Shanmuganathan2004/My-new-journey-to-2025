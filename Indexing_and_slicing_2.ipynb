{
  "nbformat": 4,
  "nbformat_minor": 0,
  "metadata": {
    "colab": {
      "provenance": [],
      "authorship_tag": "ABX9TyP2qYcy8ANvFUVPiFI44TZD"
    },
    "kernelspec": {
      "name": "python3",
      "display_name": "Python 3"
    },
    "language_info": {
      "name": "python"
    }
  },
  "cells": [
    {
      "cell_type": "code",
      "execution_count": 2,
      "metadata": {
        "colab": {
          "base_uri": "https://localhost:8080/"
        },
        "id": "rjyMd2lUlAKT",
        "outputId": "64eca311-44b8-4b2f-ca51-d1b84338bbac"
      },
      "outputs": [
        {
          "output_type": "execute_result",
          "data": {
            "text/plain": [
              "[5, 6, 7, 8, 9, 10]"
            ]
          },
          "metadata": {},
          "execution_count": 2
        }
      ],
      "source": [
        "#Slicing\n",
        "\n",
        "list_a = list(range(5,11))\n",
        "list_a"
      ]
    },
    {
      "cell_type": "code",
      "source": [
        "# Diiferent methods to slicing-1\n",
        "print(list_a[0:1])# get the first number\n",
        "print(list_a[0:2])# slicing between 2 numbers\n",
        "print(list_a[2:5])# select betwwen certain range of numbers\n",
        "print(list_a[0:])#select all the values from that number\n",
        "print(list_a[2:])#select all the values from that number\n",
        "print(list_a[:4])#select all numbers to that number except that numebr"
      ],
      "metadata": {
        "colab": {
          "base_uri": "https://localhost:8080/"
        },
        "id": "fs-6vfgprjbx",
        "outputId": "ef13f4b7-9e7e-47ab-ad0f-a76cad082dc3"
      },
      "execution_count": 3,
      "outputs": [
        {
          "output_type": "stream",
          "name": "stdout",
          "text": [
            "[5]\n",
            "[5, 6]\n",
            "[7, 8, 9]\n",
            "[5, 6, 7, 8, 9, 10]\n",
            "[7, 8, 9, 10]\n",
            "[5, 6, 7, 8]\n"
          ]
        }
      ]
    },
    {
      "cell_type": "code",
      "source": [
        "# Different methods to slicing-2 with multiple values\n",
        "print(list_a[0:5:3])\n",
        "print(list_a[::3])\n",
        "print(list_a[::4])\n",
        "print(list_a[::2])\n",
        "print(list_a[::-1])\n"
      ],
      "metadata": {
        "id": "YC63U4Lwu2vP",
        "colab": {
          "base_uri": "https://localhost:8080/"
        },
        "outputId": "6768b3ac-960d-4734-a1a5-5724b037cc55"
      },
      "execution_count": 7,
      "outputs": [
        {
          "output_type": "stream",
          "name": "stdout",
          "text": [
            "[5, 8]\n",
            "[5, 8]\n",
            "[5, 9]\n",
            "[5, 7, 9]\n",
            "[10, 9, 8, 7, 6, 5]\n"
          ]
        }
      ]
    },
    {
      "cell_type": "code",
      "source": [
        "start = 1\n",
        "stop  = 4\n",
        "skip  = 2\n",
        "list_a[start:stop:skip]"
      ],
      "metadata": {
        "colab": {
          "base_uri": "https://localhost:8080/"
        },
        "id": "7fxc8FBfZ24v",
        "outputId": "2e9b0256-2c77-49af-9a0a-a88cfa996023"
      },
      "execution_count": 8,
      "outputs": [
        {
          "output_type": "execute_result",
          "data": {
            "text/plain": [
              "[6, 8]"
            ]
          },
          "metadata": {},
          "execution_count": 8
        }
      ]
    },
    {
      "cell_type": "code",
      "source": [
        "# Excercise-1 for slicing\n",
        "#Use slicing to write \"Mike is a nice guy\" from the text\n",
        "\n",
        "text = '345dfyug ecin a si ekim 93845d'\n",
        "print(text[-25:-7])\n",
        "print(text[5:23])\n",
        "print(text[-8 : 4 :-1])"
      ],
      "metadata": {
        "colab": {
          "base_uri": "https://localhost:8080/"
        },
        "id": "2tYg23chaSmM",
        "outputId": "6d558aac-c203-47e2-8b39-12ffabe2c649"
      },
      "execution_count": 40,
      "outputs": [
        {
          "output_type": "stream",
          "name": "stdout",
          "text": [
            "yug ecin a si ekim\n",
            "yug ecin a si ekim\n",
            "mike is a nice guy\n"
          ]
        }
      ]
    }
  ]
}
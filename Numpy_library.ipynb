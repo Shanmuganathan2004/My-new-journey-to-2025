{
  "nbformat": 4,
  "nbformat_minor": 0,
  "metadata": {
    "colab": {
      "provenance": [],
      "authorship_tag": "ABX9TyNsreyv1JGi/bA2p+8RjdEH"
    },
    "kernelspec": {
      "name": "python3",
      "display_name": "Python 3"
    },
    "language_info": {
      "name": "python"
    }
  },
  "cells": [
    {
      "cell_type": "code",
      "execution_count": 1,
      "metadata": {
        "id": "eiDK92dxiMcT"
      },
      "outputs": [],
      "source": [
        "list_a  = [10,20,30]\n",
        "# finding average of list_a with numpy"
      ]
    },
    {
      "cell_type": "code",
      "source": [
        "import numpy # numpy library first class I am excited!! well\n",
        "\n",
        "numpy.mean(list_a)"
      ],
      "metadata": {
        "colab": {
          "base_uri": "https://localhost:8080/"
        },
        "id": "qDXT4Mvwiowe",
        "outputId": "e804d202-35b8-4171-b200-4fdd64c8bfcd"
      },
      "execution_count": 2,
      "outputs": [
        {
          "output_type": "execute_result",
          "data": {
            "text/plain": [
              "20.0"
            ]
          },
          "metadata": {},
          "execution_count": 2
        }
      ]
    },
    {
      "cell_type": "code",
      "source": [
        "import numpy as np #due to numpy is a long name we haveto give a\n",
        "#alias name or varaibale name as np to write smaller\n",
        "np.mean(list_a)"
      ],
      "metadata": {
        "colab": {
          "base_uri": "https://localhost:8080/"
        },
        "id": "7DHP3wjDi-HF",
        "outputId": "d6366520-ac98-4af1-d801-dd7d81ad371d"
      },
      "execution_count": 3,
      "outputs": [
        {
          "output_type": "execute_result",
          "data": {
            "text/plain": [
              "20.0"
            ]
          },
          "metadata": {},
          "execution_count": 3
        }
      ]
    },
    {
      "cell_type": "code",
      "source": [
        "np.linspace(1,80,20)#Lineary space is a function in numpy"
      ],
      "metadata": {
        "colab": {
          "base_uri": "https://localhost:8080/"
        },
        "id": "oCPf9U9ZkDa9",
        "outputId": "01814f05-37e3-41e3-d529-a2c0c9ae5c7c"
      },
      "execution_count": 7,
      "outputs": [
        {
          "output_type": "execute_result",
          "data": {
            "text/plain": [
              "array([ 1.        ,  5.15789474,  9.31578947, 13.47368421, 17.63157895,\n",
              "       21.78947368, 25.94736842, 30.10526316, 34.26315789, 38.42105263,\n",
              "       42.57894737, 46.73684211, 50.89473684, 55.05263158, 59.21052632,\n",
              "       63.36842105, 67.52631579, 71.68421053, 75.84210526, 80.        ])"
            ]
          },
          "metadata": {},
          "execution_count": 7
        }
      ]
    },
    {
      "cell_type": "code",
      "source": [
        "number = [1,2,3,4,5,6]\n",
        "numbernp = np.array(number)\n",
        "print(type(number))\n",
        "type(numbernp)\n",
        "\n",
        "print(number)\n",
        "print(numbernp)"
      ],
      "metadata": {
        "colab": {
          "base_uri": "https://localhost:8080/"
        },
        "id": "WblhTJhvnZB6",
        "outputId": "7de68200-81e4-4568-a419-2f83bebb1405"
      },
      "execution_count": 11,
      "outputs": [
        {
          "output_type": "stream",
          "name": "stdout",
          "text": [
            "<class 'list'>\n",
            "[1, 2, 3, 4, 5, 6]\n",
            "[1 2 3 4 5 6]\n"
          ]
        }
      ]
    },
    {
      "cell_type": "code",
      "source": [
        "print(numbernp.min())\n",
        "print(numbernp.max())\n",
        "print(np.min(numbernp))"
      ],
      "metadata": {
        "colab": {
          "base_uri": "https://localhost:8080/"
        },
        "id": "T29-z0nToxlb",
        "outputId": "7ca2494f-d68b-4f51-f7ef-c4fb5d95b003"
      },
      "execution_count": 15,
      "outputs": [
        {
          "output_type": "stream",
          "name": "stdout",
          "text": [
            "1\n",
            "6\n",
            "1\n"
          ]
        }
      ]
    },
    {
      "cell_type": "code",
      "source": [
        "n = [4,6,7,3,4,5,7,9]\n",
        "print(n)\n",
        "print(type(n))\n",
        "n = np.sort(n)\n",
        "print(n)\n",
        "print(type(n))"
      ],
      "metadata": {
        "colab": {
          "base_uri": "https://localhost:8080/"
        },
        "id": "BJLqSl9jpZ2J",
        "outputId": "cd165728-05f2-4d8a-e179-3fa75616663b"
      },
      "execution_count": 20,
      "outputs": [
        {
          "output_type": "stream",
          "name": "stdout",
          "text": [
            "[4, 6, 7, 3, 4, 5, 7, 9]\n",
            "<class 'list'>\n",
            "[3 4 4 5 6 7 7 9]\n",
            "<class 'numpy.ndarray'>\n"
          ]
        }
      ]
    },
    {
      "cell_type": "code",
      "source": [
        "n = [4,6,7,3,4,5,7,9]\n",
        "print(n)\n",
        "print(type(n))\n",
        "n = list(np.sort(n))\n",
        "print(n)\n",
        "print(type(n))"
      ],
      "metadata": {
        "colab": {
          "base_uri": "https://localhost:8080/"
        },
        "id": "VNN7IEqfqCIw",
        "outputId": "bc4c4c10-526b-4f4c-ffd8-12fcc1d1f2ee"
      },
      "execution_count": 21,
      "outputs": [
        {
          "output_type": "stream",
          "name": "stdout",
          "text": [
            "[4, 6, 7, 3, 4, 5, 7, 9]\n",
            "<class 'list'>\n",
            "[3, 4, 4, 5, 6, 7, 7, 9]\n",
            "<class 'list'>\n"
          ]
        }
      ]
    }
  ]
}